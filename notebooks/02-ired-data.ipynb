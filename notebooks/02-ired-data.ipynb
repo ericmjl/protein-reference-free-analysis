{
 "cells": [
  {
   "cell_type": "code",
   "execution_count": null,
   "metadata": {},
   "outputs": [],
   "source": [
    "%load_ext autoreload\n",
    "%autoreload 2\n"
   ]
  },
  {
   "cell_type": "code",
   "execution_count": null,
   "metadata": {},
   "outputs": [],
   "source": [
    "import requests\n",
    "import pandas as pd\n",
    "\n",
    "df = pd.read_csv(\"https://www.dropbox.com/scl/fi/o9x7u2sfwimnydlu8qreb/Imine-Reductase-Evolution.csv?rlkey=17kea1xtrihpvmfvtjsmxp3bm&dl=1\", index_col=0).dropna()\n"
   ]
  },
  {
   "cell_type": "code",
   "execution_count": null,
   "metadata": {},
   "outputs": [],
   "source": [
    "wt_sequence = 'MTNHASTATTSPAPVTVVGLGPMGLVLAEVLLAKGHPTTVWNRTPERASGLVAQGASLAASITDAVSASPVTIMCLNNYATMYEVFGPAREALRDRVLVNLNSGTPQEVRAAVSWASDLGTRYLDGAIMVPPPLVGRPDAVFLYSGDRAVLDEHRATLASLGDPRFLGADPTLAVLYNTALLHMMYATLNGYLQATALVGSAGVSATEFADIALGWFAPSVLAPSSLAAHAVDLDKGNYPGTLGTLRMNVNALEHIARAAEEQGVHSELPHLMREVAERAVAQGHGDHNYMSVYEAFKQPSPAS'\n"
   ]
  },
  {
   "cell_type": "code",
   "execution_count": null,
   "metadata": {},
   "outputs": [],
   "source": [
    "from seqlike import aaSeqLike\n",
    "from seqlike.MutationSet import MutationSet\n",
    "\n",
    "\n",
    "mutation_sets = []\n",
    "for mutation in df[\"mutation\"]:\n",
    "    try:\n",
    "        if \";\" in mutation:\n",
    "            mutation_sets.append(MutationSet(mutations=mutation.split(\"; \")))\n",
    "        else:\n",
    "            mutation_sets.append(MutationSet(mutations=[mutation]))\n",
    "    except Exception as e:\n",
    "        print(mutation)\n",
    "        print(e)\n",
    "df = df.assign(**{\"mutation_set\": mutation_sets, \"mutation_string\": list(map(str, mutation_sets))})\n"
   ]
  },
  {
   "cell_type": "code",
   "execution_count": null,
   "metadata": {},
   "outputs": [],
   "source": [
    "str(mutation_sets[0])\n"
   ]
  },
  {
   "cell_type": "code",
   "execution_count": null,
   "metadata": {},
   "outputs": [],
   "source": [
    "wt_sequence = aaSeqLike('MTNHASTATTSPAPVTVVGLGPMGLVLAEVLLAKGHPTTVWNRTPERASGLVAQGASLAASITDAVSASPVTIMCLNNYATMYEVFGPAREALRDRVLVNLNSGTPQEVRAAVSWASDLGTRYLDGAIMVPPPLVGRPDAVFLYSGDRAVLDEHRATLASLGDPRFLGADPTLAVLYNTALLHMMYATLNGYLQATALVGSAGVSATEFADIALGWFAPSVLAPSSLAAHAVDLDKGNYPGTLGTLRMNVNALEHIARAAEEQGVHSELPHLMREVAERAVAQGHGDHNYMSVYEAFKQPSPAS')\n"
   ]
  },
  {
   "cell_type": "code",
   "execution_count": null,
   "metadata": {},
   "outputs": [],
   "source": [
    "wt_sequence + mutation_sets[0]\n"
   ]
  },
  {
   "cell_type": "code",
   "execution_count": null,
   "metadata": {},
   "outputs": [],
   "source": [
    "from tqdm.auto import tqdm\n",
    "\n",
    "one_hots = []\n",
    "valid_mutation_sets = []\n",
    "for mutations in tqdm(mutation_sets):\n",
    "    try:\n",
    "        one_hots.append((wt_sequence + mutations).to_onehot())\n",
    "        valid_mutation_sets.append(mutations)\n",
    "    except Exception as e:\n",
    "        pass\n"
   ]
  },
  {
   "cell_type": "code",
   "execution_count": null,
   "metadata": {},
   "outputs": [],
   "source": [
    "len(one_hots), len(df)\n"
   ]
  },
  {
   "cell_type": "code",
   "execution_count": null,
   "metadata": {},
   "outputs": [],
   "source": [
    "import jax.numpy as np\n",
    "data = pd.DataFrame({\"one_hot\": one_hots, \"mutation_set\": valid_mutation_sets, \"mutation_string\": list(map(str, valid_mutation_sets))})\n",
    "data = data.merge(df, on=[\"mutation_string\"])\n",
    "\n",
    "\n",
    "# genotypes = data[\"one_hot\"].apply(np.array)\n",
    "# phenotypes = data[\"mean\"].apply(np.log)\n"
   ]
  },
  {
   "cell_type": "code",
   "execution_count": null,
   "metadata": {},
   "outputs": [],
   "source": [
    "data[\"one_hot\"].iloc[0].dtype\n"
   ]
  },
  {
   "cell_type": "code",
   "execution_count": null,
   "metadata": {},
   "outputs": [],
   "source": [
    "genotypes = np.dstack([d for d in data[\"one_hot\"].apply(np.array)]).transpose((2, 0, 1))\n",
    "genotypes\n"
   ]
  },
  {
   "cell_type": "code",
   "execution_count": null,
   "metadata": {},
   "outputs": [],
   "source": [
    "phenotypes = np.vstack(data[\"mean\"].apply(np.log)).squeeze()\n",
    "phenotypes\n"
   ]
  },
  {
   "cell_type": "code",
   "execution_count": null,
   "metadata": {},
   "outputs": [],
   "source": [
    "from protein_reference_free_analysis.effects import zeroth_order_effects, first_order_effects, second_order_effects\n",
    "\n",
    "\n",
    "e_0 = zeroth_order_effects(genotypes, phenotypes)\n"
   ]
  },
  {
   "cell_type": "code",
   "execution_count": null,
   "metadata": {},
   "outputs": [],
   "source": [
    "e_1 = first_order_effects(genotypes, phenotypes)\n"
   ]
  },
  {
   "cell_type": "code",
   "execution_count": null,
   "metadata": {},
   "outputs": [],
   "source": [
    "# This takes too long to compute on a real protein.\n",
    "# I need to optimize the implementation so that we only look at positions that are varying\n",
    "# and ignore other positions.\n",
    "# Time to go back to looking at the source code again...\n",
    "# e_2 = second_order_effects(genotypes, phenotypes)\n"
   ]
  },
  {
   "cell_type": "code",
   "execution_count": null,
   "metadata": {},
   "outputs": [],
   "source": []
  }
 ],
 "metadata": {
  "kernelspec": {
   "display_name": "protein-reference-free-analysis",
   "language": "python",
   "name": "python3"
  },
  "language_info": {
   "codemirror_mode": {
    "name": "ipython",
    "version": 3
   },
   "file_extension": ".py",
   "mimetype": "text/x-python",
   "name": "python",
   "nbconvert_exporter": "python",
   "pygments_lexer": "ipython3",
   "version": "3.11.5"
  }
 },
 "nbformat": 4,
 "nbformat_minor": 2
}

{
 "cells": [
  {
   "cell_type": "code",
   "execution_count": null,
   "id": "349cfde0-e123-4ba4-b4da-5779c3e3d622",
   "metadata": {
    "tags": []
   },
   "outputs": [],
   "source": [
    "%load_ext autoreload\n",
    "%autoreload 2"
   ]
  },
  {
   "cell_type": "markdown",
   "id": "51f0392e-a93b-4662-85ab-c0d0f7260238",
   "metadata": {},
   "source": [
    "# Journal Club: The simplicity of protein sequence-function relationships"
   ]
  },
  {
   "cell_type": "markdown",
   "id": "c2b4ab11-ec4c-4758-a164-bc25f6c6c0fc",
   "metadata": {},
   "source": [
    "I recently stumbled upon this paper by Yeonwoo Park that I wanted to explore in more depth. "
   ]
  },
  {
   "cell_type": "markdown",
   "id": "4bcd27ca-1dba-4856-a69d-ae749509df7f",
   "metadata": {},
   "source": [
    "Here's why. "
   ]
  },
  {
   "cell_type": "markdown",
   "id": "3b60b827-bcce-4432-8e97-379a6d12c369",
   "metadata": {},
   "source": [
    "This paper proposes a mathematical model that attempts to explain the effect of mutations on a protein's phenotype. This mathematical model is parsimonious in nature: it proposes that the effect of a phenotype is the result of the sum of the following terms:\n",
    "\n",
    "- A zeroth order effect, which is the average phenotype value across all observed genotypes,\n",
    "- A first-order effect, which is calculated by taking the average phenotype of all genotypes with a state  (i.e. a letter at a position) and calculating its difference from the global average;\n",
    "- A second-order effect, which is calculated by taking the average phenotype of all genotypes containing two states, and calculating its difference from the first-order prediction. \n",
    "- Other $n$-th order effects, which is calculated using the same logic (average phenotype of all genotypes containing $n$ states, and calculating its difference from the $n-1$th order prediction)."
   ]
  },
  {
   "cell_type": "markdown",
   "id": "0ee9d07f-cdab-418a-9dc9-e324d0b49401",
   "metadata": {},
   "source": [
    "This is mathematically elegant, and I want to see if I can re-implement the mathematical model here in Python, while also making it fully Bayesian in PyMC."
   ]
  },
  {
   "cell_type": "markdown",
   "id": "2e026a9f-0ff6-4d65-9452-3b222a93ec2f",
   "metadata": {},
   "source": [
    "## Generative Model: Dissecting the Equations"
   ]
  },
  {
   "cell_type": "markdown",
   "id": "8138302e-7b65-4201-98fa-40e2bbe2d849",
   "metadata": {},
   "source": [
    "Within Figure 1(B) of the paper, we see a phenotype function,\n",
    "which begins by modeling the main phenotypic effects as being:\n",
    "\n",
    "$$s(g_1,...,g_n)=e_0 + \\sum_{i=1}^{n} e_i(g_i) + \\sum_{i < k} e_{i, k}(g_i, g_k) + ...$$\n"
   ]
  },
  {
   "cell_type": "markdown",
   "id": "fbdaf538-3204-4111-94ac-0aa7fdc923ac",
   "metadata": {},
   "source": [
    "Here, the $e$ symbols are:\n",
    "\n",
    "- $e_0$: the zero-th order effect,\n",
    "- $e_i$: the 1st order effect,\n",
    "- $e_{i, k}$: the 2nd order effect,\n",
    "\n",
    "Additionally,\n",
    "\n",
    "- $i$ refers to the position out of $n$ position (in Python, this would be 0...n-1)\n",
    "- $g_i$ is the genotype at position $i$; in a binary genotype setting, this would be modeled as a $(0, 1)$ scalar, while in a multinomial genotype setting, we might model this using a one-hot vector instead.\n",
    "- $k$ is also a position out of $n$ positions; we restrict it to $i < k$ so that we do not double-count positions."
   ]
  },
  {
   "cell_type": "markdown",
   "id": "6cbdca78-6756-4cb4-aa5d-a668c3c44a6b",
   "metadata": {},
   "source": [
    "The 1st, 2nd, and, more generally $k$-th order effects have a special property: within this model, they must sum to 0. This is due to the _reference-free_ nature of this model: instead of estimating mutational effects relative to a baseline variant (commonly called the wild-type), mutational effects are measured relative to the mean phenotype value across all phenotypes. By this definition, 1st-order effects across all genotypes must sum to zero; a particular genotype, however, will by definition not contain all genotypes (the logical proof of this is that it is impossible for a protein to contain two differing amino acid sequences at the same position), and so its phenotype can be modeled as the average phenotype + the sum of effects of its particular genotype's single effects composition."
   ]
  },
  {
   "cell_type": "markdown",
   "id": "6e3aae25-209e-46f0-988f-886160e77692",
   "metadata": {},
   "source": [
    "Then, $s$ is transformed by a sigmoid function to model non-specific epistasis in the final observed phenotype:\n",
    "\n",
    "$$y = L + \\frac{U - L}{1 + e^{-s}}$$\n",
    "\n",
    "where:\n",
    "\n",
    "- $L$ is the lower-bound quantitative phenotype of interest, \n",
    "- $U$ is the upper-bound quantitative phenotype of interest, and\n",
    "- $y$ is the final observed phenotype."
   ]
  },
  {
   "cell_type": "markdown",
   "id": "3d1d801c-4b04-4bc4-a88b-fee86a0bdef4",
   "metadata": {},
   "source": [
    "The key thing to think about here is how each of the effects $e_i$, $e_{i, k}$, and so on for higher-order effects, are modeled. We can think of these as generative functions for the effects. If we think about the problem in a binary genotype setting, then $e_i(g_i)$ might be modeled as:\n",
    "\n",
    "$$e_i(g_i) = \\theta_{i} g_i$$\n",
    "\n",
    "where $\\theta_i$ is nothing more than a slope parameter that we have to estimate. When $g_i$ is 0, i.e. the genotype taken on at position $i$ is 0, then there is no effect for the genotype at that position; when $g_i$ is 1, i.e. the genotype at position $i$ is 1, then the effect for the genotype at that position is $\\theta_i$."
   ]
  },
  {
   "cell_type": "markdown",
   "id": "6e952261-43f2-42a2-b29f-deb4075b4784",
   "metadata": {},
   "source": [
    "This feels like a natural point to make things concrete by generating data. I will assume the 2-position, binary genotype situation for mental tractability, and then find ways to generalize to >2 positions and >2 genotypes per position."
   ]
  },
  {
   "cell_type": "markdown",
   "id": "36b86e98-2f3b-4757-8d73-f8a24d9eea86",
   "metadata": {},
   "source": [
    "To start, we will need simulated data. Following the paper, we are going to simulate a genotype-phenotype system where there are:\n",
    "\n",
    "1. Two possible genotypes at each position, A and B.\n",
    "2. Three positions, 0, 1, and 2\n",
    "3. Linear coefficients for each of the positions\n",
    "4. Interactions between positions 0 and 2, such that a logical XOR between positions 0 and 2 flips the signs of the coefficients.\n",
    "\n",
    "This should serve as a minimally complex example for reference-free analysis.\n",
    "On one hand, we should be able to enumerate every single phenotype possible -- there are only 8 in total.\n",
    "On the other hand, the interaction term should give us a curveball that makes it difficult to use just a linear model to estimate parameters."
   ]
  },
  {
   "cell_type": "code",
   "execution_count": null,
   "id": "16660ee6-d92f-4f39-945d-40d1586d83ba",
   "metadata": {},
   "outputs": [],
   "source": [
    "import jax.numpy as np\n",
    "from jax import random\n",
    "\n",
    "key = random.PRNGKey(1)\n",
    "\n",
    "# Establish linear coefficients for each position - to start, they will just be hard-coded.\n",
    "coefficients = random.uniform(key, shape=(3,))\n",
    "coefficients"
   ]
  },
  {
   "cell_type": "code",
   "execution_count": null,
   "id": "ce648efb-ffc1-4704-8cc6-e6fd238e7c7c",
   "metadata": {},
   "outputs": [],
   "source": [
    "# Enumerate all possible genotypes.\n",
    "from itertools import product\n",
    "genotypes = []\n",
    "for i, j, k in product(range(2), range(2), range(2)):\n",
    "    genotype = [i, j, k]\n",
    "    genotypes.append(genotype)\n",
    "genotypes = np.array(genotypes)\n",
    "genotypes"
   ]
  },
  {
   "cell_type": "code",
   "execution_count": null,
   "id": "803b82a9-0e14-42dd-b278-49c3456d8200",
   "metadata": {},
   "outputs": [],
   "source": [
    "# Simulate what the phenotypes will look like if we just had a linear combination of genotypes.\n",
    "from jax import vmap \n",
    "def phenotype_without_interactions(genotype):\n",
    "    return np.dot(genotype, coefficients)\n",
    "\n",
    "vmap(phenotype_without_interactions)(genotypes)"
   ]
  },
  {
   "cell_type": "code",
   "execution_count": null,
   "id": "43a3f562-b839-4e2c-af24-4b4ee47f9f98",
   "metadata": {},
   "outputs": [],
   "source": [
    "# Simulate what would happen if we had the interaction terms.\n",
    "from jax import vmap \n",
    "from jax import lax \n",
    "genotype = genotypes[4]\n",
    "\n",
    "def phenotype_with_interactions(genotype):\n",
    "    def true_fn(coefficients):\n",
    "        return np.array([-1.0, 1.0, -1.0]) * coefficients\n",
    "    \n",
    "    def false_fn(coefficients):\n",
    "        return coefficients\n",
    "    \n",
    "    interaction = np.logical_xor(genotype[0], genotype[2])\n",
    "    \n",
    "    coeff = lax.cond(interaction, true_fn, false_fn, coefficients)\n",
    "    \n",
    "    return np.dot(genotype, coeff)\n",
    "\n",
    "phenotypes = vmap(phenotype_with_interactions)(genotypes)\n",
    "# phenotypes = vmap(phenotype_without_interactions)(genotypes)\n",
    "phenotypes"
   ]
  },
  {
   "cell_type": "markdown",
   "id": "288c8f18-5f41-48cc-8efd-487eca5ad0a6",
   "metadata": {},
   "source": [
    "With this, we need to note that the coefficients that we are going to estimate should differ from the ground truth coefficients that were used to generate the data."
   ]
  },
  {
   "cell_type": "markdown",
   "id": "3ee6dfbd-95f6-4ba9-99a9-b3a122ef79b7",
   "metadata": {},
   "source": [
    "Cool, we've done it! Let's now get RFA going.\n",
    "\n",
    "First off, we need to estimae $e_0$, which is the global average phenotype value.\n",
    "This is trivial."
   ]
  },
  {
   "cell_type": "code",
   "execution_count": null,
   "id": "e9917b88-dfa1-43ca-9189-5b97b875cf00",
   "metadata": {},
   "outputs": [],
   "source": [
    "def zeroth_order_effects(genotypes, phenotypes):\n",
    "    return np.mean(phenotypes)\n",
    "\n",
    "e_0 = zeroth_order_effects(genotypes, phenotypes)\n",
    "e_0"
   ]
  },
  {
   "cell_type": "markdown",
   "id": "dcb02bfe-33dd-4c71-a77e-0c7ff43284a4",
   "metadata": {},
   "source": [
    "Next up, we need to estimate the first-order effects. To do so, we first need to calculate the average values for each position's state.\n",
    "\n",
    "What does this mean? It means we need to calculate a `(num_states, num_positions)` array where each entry is the average phenotype value when a sequence contains a particular `state` at a particular `position`."
   ]
  },
  {
   "cell_type": "code",
   "execution_count": null,
   "id": "a478437c-3ece-4bdb-8f48-67ee9b40ecb3",
   "metadata": {},
   "outputs": [],
   "source": [
    "phenotypes"
   ]
  },
  {
   "cell_type": "code",
   "execution_count": null,
   "id": "7199543e-0205-4d6f-8338-81d713a4721c",
   "metadata": {},
   "outputs": [],
   "source": [
    "genotypes"
   ]
  },
  {
   "cell_type": "code",
   "execution_count": null,
   "id": "f8998165-ad15-45ac-8065-fe6273999f59",
   "metadata": {},
   "outputs": [],
   "source": [
    "def get_indices_with_genotype(sequences, genotype, site):\n",
    "    idxs = []\n",
    "    for i, sequence in enumerate(sequences):\n",
    "        if sequence[site] == genotype:\n",
    "            idxs.append(i)\n",
    "    return np.array(idxs)\n",
    "\n",
    "\n",
    "get_indices_with_genotype(genotypes, 1, 0)"
   ]
  },
  {
   "cell_type": "code",
   "execution_count": null,
   "id": "a7a3aa3a-e4f6-44eb-b018-b5ed4737d50b",
   "metadata": {},
   "outputs": [],
   "source": [
    "def calculate_single_genotype_averages(genotypes, phenotypes):\n",
    "    \"\"\"\n",
    "    Calculate the average phenotype for each genotype at each site.\n",
    "\n",
    "    Args:\n",
    "        genotypes (ndarray): Array of shape (num_sites,) representing the binary genotypes.\n",
    "        phenotypes (ndarray): Array of shape (num_genotypes,) representing the phenotypes.\n",
    "\n",
    "    Returns:\n",
    "        ndarray: Array of shape (2, num_sites) containing the average phenotype for each state (0 or 1) at each site.\n",
    "    \"\"\"\n",
    "    num_sites = len(genotypes[0])\n",
    "    num_states = np.max(genotypes) + 1\n",
    "    state_averages = np.zeros(shape=(num_states, num_sites))\n",
    "\n",
    "    for site in range(num_sites):\n",
    "        for state in range(num_states):\n",
    "            # Calculate average phenotype for every genotype that has a particular genotype at `site`.\n",
    "            idxs = get_indices_with_genotype(genotypes, state, site)\n",
    "            phenotypes_of_interest = phenotypes[idxs]\n",
    "            state_averages = state_averages.at[state, site].set(np.mean(phenotypes_of_interest))\n",
    "    return state_averages\n",
    "\n",
    "calculate_single_genotype_averages(genotypes, phenotypes)"
   ]
  },
  {
   "cell_type": "code",
   "execution_count": null,
   "id": "e65df5cc-32dd-4c92-a6bd-be73b1c225c4",
   "metadata": {},
   "outputs": [],
   "source": [
    "def first_order_effects(genotypes, phenotypes):\n",
    "    e_0 = zeroth_order_effects(genotypes, phenotypes)\n",
    "    single_genotype_averages = calculate_single_genotype_averages(genotypes, phenotypes)\n",
    "    return single_genotype_averages - e_0\n",
    "\n",
    "e_1 = first_order_effects(genotypes, phenotypes)\n",
    "e_1"
   ]
  },
  {
   "cell_type": "markdown",
   "id": "e25d1a09-48e6-41df-bf00-39a19f20e4aa",
   "metadata": {},
   "source": [
    "The shape of this array is `(num_genotype_states, num_positions)`."
   ]
  },
  {
   "cell_type": "code",
   "execution_count": null,
   "id": "92cd983c-2832-4055-b079-442aabcacbd7",
   "metadata": {},
   "outputs": [],
   "source": [
    "e_1.sum()"
   ]
  },
  {
   "cell_type": "markdown",
   "id": "cfb395b8-6a4a-4e16-9ac0-0c0e80dbcdd0",
   "metadata": {},
   "source": [
    "This property must hold that it equals to 0 for a comprehensive genotype-phenotype enumeration. We can check this by changing the random key above and re-running the program. It should also hold true whether or not we use genotype_with_interactions or genotype_without_interactions."
   ]
  },
  {
   "cell_type": "markdown",
   "id": "29cbe54e-2b17-4997-856e-8ebe1a7b0da0",
   "metadata": {},
   "source": [
    "Now we're going to calculate the second-order effects."
   ]
  },
  {
   "cell_type": "markdown",
   "id": "244cf6e3-dcb8-418c-b4bd-2f931e0a4c81",
   "metadata": {},
   "source": [
    "Second-order effects are calculated as follows:\n",
    "\n",
    "> For every _pair_ of sites, and for every possible _pair_ of genotypes at that site, we calculate the average phenotype value."
   ]
  },
  {
   "cell_type": "code",
   "execution_count": null,
   "id": "a30a9f81-c117-42fd-bfec-9e3671413fb0",
   "metadata": {},
   "outputs": [],
   "source": [
    "def get_indices_with_double_genotype(sequences, sites, genotypes):\n",
    "    idxs = []\n",
    "    for i, sequence in enumerate(sequences):\n",
    "        if sequence[sites[0]] == genotypes[0] and sequence[sites[1]] == genotypes[1]:\n",
    "            idxs.append(i)\n",
    "    return np.array(idxs)\n",
    "\n",
    "\n",
    "get_indices_with_double_genotype(genotypes, sites=[0, 1], genotypes=[1, 0])"
   ]
  },
  {
   "cell_type": "code",
   "execution_count": null,
   "id": "3f0cce5b-b7f9-49e8-9b75-59648f7fc3a1",
   "metadata": {},
   "outputs": [],
   "source": [
    "# This means we have to have an array that is of shape (n_genotype_states, n_genotype_states, n_positions, n_positions).\n",
    "from itertools import combinations\n",
    "\n",
    "def calculate_double_genotype_averages(genotypes, phenotypes):\n",
    "    \"\"\"\n",
    "    Calculate the average phenotype for each genotype at each site.\n",
    "\n",
    "    Args:\n",
    "        genotypes (ndarray): Array of shape (num_sites,) representing the binary genotypes.\n",
    "        phenotypes (ndarray): Array of shape (num_genotypes,) representing the phenotypes.\n",
    "\n",
    "    Returns:\n",
    "        ndarray: Array of shape (num_states, num_sites, num_states, num_sites) containing the average phenotype for each state (0 or 1) at each site.\n",
    "    \"\"\"\n",
    "    num_sites = len(genotypes[0])\n",
    "    num_states = np.max(genotypes) + 1\n",
    "    state_averages = np.zeros(shape=(num_states, num_sites, num_states, num_sites))\n",
    "\n",
    "    for site1, site2 in combinations(range(num_sites), 2):\n",
    "        for state1, state2 in product(range(num_states), range(num_states)):\n",
    "            # Calculate average phenotype for every genotype that has a particular genotype at `site`.\n",
    "            sites = np.array([site1, site2])\n",
    "            states = np.array([state1, state2])\n",
    "            idxs = get_indices_with_double_genotype(genotypes, sites, states)\n",
    "            phenotypes_of_interest = phenotypes[idxs]\n",
    "            state_averages = state_averages.at[state1, site1, state2, site2].set(np.mean(phenotypes_of_interest))\n",
    "    return state_averages\n",
    "\n",
    "\n",
    "double_genotype_averages = calculate_double_genotype_averages(genotypes, phenotypes)\n",
    "double_genotype_averages"
   ]
  },
  {
   "cell_type": "code",
   "execution_count": null,
   "id": "8a6feba6-900c-4897-a4c5-3646a4842339",
   "metadata": {},
   "outputs": [],
   "source": [
    "# Within the equation for 2nd order effects, we have to sum up e_0 + (e_1 for each position's particular genotype)\n",
    "# This is how we do it:\n",
    "site1 = 0\n",
    "site2 = 2\n",
    "state1 = 0\n",
    "state2 = 0\n",
    "\n",
    "e_1_s1 = e_1.at[state1, site1].get()\n",
    "e_1_s2 = e_1.at[state2, site2].get()\n",
    "\n",
    "e_1_s1, e_1_s2\n",
    "\n",
    "e_0 + e_1_s1 + e_1_s2"
   ]
  },
  {
   "cell_type": "code",
   "execution_count": null,
   "id": "73535545-4660-4059-9909-6206d89f90c0",
   "metadata": {},
   "outputs": [],
   "source": [
    "len(genotypes[0])"
   ]
  },
  {
   "cell_type": "code",
   "execution_count": null,
   "id": "992f2d8b-d69a-415f-bdfe-06e26ab37e64",
   "metadata": {},
   "outputs": [],
   "source": [
    "# Made generalized:\n",
    "\n",
    "def second_order_effects(genotypes, phenotypes):\n",
    "    e_0 = zeroth_order_effects(genotypes, phenotypes)\n",
    "    e_1 = first_order_effects(genotypes, phenotypes)\n",
    "    double_genotype_averages = calculate_double_genotype_averages(genotypes, phenotypes)\n",
    "\n",
    "    num_sites = len(genotypes[0])\n",
    "    num_states = np.max(genotypes) + 1\n",
    "\n",
    "    effects = np.zeros_like(double_genotype_averages)\n",
    "    for site1, site2 in combinations(range(num_sites), 2):\n",
    "        for state1, state2 in product(range(num_states), range(num_states)):\n",
    "            phenotype_average = double_genotype_averages.at[state1, site1, state2, site2].get()\n",
    "            effect = phenotype_average - (e_0 + e_1.at[state1, site1].get() + e_1.at[state2, site2].get())\n",
    "            effects = effects.at[state1, site1, state2, site2].set(effect)\n",
    "    return effects\n",
    "\n",
    "\n",
    "e_2 = second_order_effects(genotypes, phenotypes)\n",
    "e_2"
   ]
  },
  {
   "cell_type": "code",
   "execution_count": null,
   "id": "5cc5b7ab-1b98-4cac-9a8d-44ef022b1515",
   "metadata": {},
   "outputs": [],
   "source": [
    "# Also equals to 0! (or infinitesimally close)\n",
    "assert np.allclose(e_2.sum(), 0)\n",
    "e_2.sum()"
   ]
  },
  {
   "cell_type": "code",
   "execution_count": null,
   "id": "4223d5c7-14a8-423a-9a79-a789727f8472",
   "metadata": {},
   "outputs": [],
   "source": [
    "# Its shape should be:\n",
    "num_sites = len(genotypes[0])\n",
    "num_states = np.max(genotypes) + 1\n",
    "assert e_2.shape == (num_states, num_sites, num_states, num_sites)"
   ]
  },
  {
   "cell_type": "markdown",
   "id": "8ccfc963-1981-4d2a-86e0-25f435a92030",
   "metadata": {},
   "source": [
    "Now, try to predict the phenotype value of a genotype given the zeroth, first, and second order effects.\n",
    "\n",
    "We should be able to accurately calculate it all."
   ]
  },
  {
   "cell_type": "code",
   "execution_count": null,
   "id": "211a1d2b-30f0-4949-acf0-5332542a958b",
   "metadata": {},
   "outputs": [],
   "source": [
    "# Start with the genotype [0, 0, 0]\n",
    "e_0 = zeroth_order_effects(genotypes, phenotypes)\n",
    "e_1 = first_order_effects(genotypes, phenotypes)\n",
    "e_2 = second_order_effects(genotypes, phenotypes)\n",
    "\n",
    "i = 7\n",
    "\n",
    "genotype = genotypes[i]\n",
    "\n",
    "def get_first_order_effect(e_1, genotype):\n",
    "    effects = []\n",
    "    for site, state in enumerate(genotype):\n",
    "        effects.append(e_1.at[state, site].get())\n",
    "    return np.sum(np.array(effects))\n",
    "\n",
    "\n",
    "def get_second_order_effect(e_2, genotype):\n",
    "    effects = []\n",
    "    num_sites = len(genotype)\n",
    "    num_states = 2 # hard-coded\n",
    "    for site1, site2 in combinations(range(num_sites), 2):\n",
    "        state1 = genotype.at[site1].get()\n",
    "        state2 = genotype.at[site2].get()\n",
    "        effects.append(e_2.at[state1, site1, state2, site2].get())\n",
    "    return np.sum(np.array(effects))\n",
    "\n",
    "get_second_order_effect(e_2, genotype)\n",
    "\n",
    "total = e_0 + get_first_order_effect(e_1, genotype) + get_second_order_effect(e_2, genotype)\n",
    "total - phenotypes[i]"
   ]
  },
  {
   "cell_type": "markdown",
   "id": "2513c100-c5cc-4771-84eb-a503afda6b9a",
   "metadata": {},
   "source": [
    "Things work!\n",
    "\n",
    "We've test-driven the ideas on a simple binary genotype system with 3 positions.\n",
    "We should test-drive the same with a 5-genotype system with 3 positions,\n",
    "just to make sure the results are robust.\n",
    "To do so, however, we need to refactor the code and ensure its correctness with software tests.\n",
    "This is totally in line with the idea of \"Software Engineering as Research Practice\",\n",
    "a topic I've written about on my [blog](https://ericmjl.github.io/blog//2020/8/21/software-engineering-as-a-research-practice/index.html)."
   ]
  }
 ],
 "metadata": {
  "kernelspec": {
   "display_name": "protein-reference-free-analysis",
   "language": "python",
   "name": "python3"
  },
  "language_info": {
   "codemirror_mode": {
    "name": "ipython",
    "version": 3
   },
   "file_extension": ".py",
   "mimetype": "text/x-python",
   "name": "python",
   "nbconvert_exporter": "python",
   "pygments_lexer": "ipython3",
   "version": "3.11.5"
  }
 },
 "nbformat": 4,
 "nbformat_minor": 5
}
